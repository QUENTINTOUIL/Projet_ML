{
 "cells": [
  {
   "cell_type": "markdown",
   "id": "b52d4cee-fe6a-4c71-a21d-60788f16864d",
   "metadata": {},
   "source": [
    "# Version plus clean parce que l'autre c'est le bordel"
   ]
  },
  {
   "cell_type": "code",
   "execution_count": null,
   "id": "203fe1c8-d94c-4670-bc52-709042e41a14",
   "metadata": {},
   "outputs": [],
   "source": []
  }
 ],
 "metadata": {
  "kernelspec": {
   "display_name": "R",
   "language": "R",
   "name": "ir"
  },
  "language_info": {
   "codemirror_mode": "r",
   "file_extension": ".r",
   "mimetype": "text/x-r-source",
   "name": "R",
   "pygments_lexer": "r",
   "version": "4.4.2"
  }
 },
 "nbformat": 4,
 "nbformat_minor": 5
}
