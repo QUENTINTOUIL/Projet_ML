{
 "cells": [
  {
   "cell_type": "markdown",
   "id": "b52d4cee-fe6a-4c71-a21d-60788f16864d",
   "metadata": {},
   "source": [
    "# Projet Machine Learning en <a href=\"https://www.python.org/\"><img src=\"https://upload.wikimedia.org/wikipedia/commons/thumb/f/f8/Python_logo_and_wordmark.svg/390px-Python_logo_and_wordmark.svg.png\" style=\"max-width: 120px; display: inline\" alt=\"Python\"/></a> avec <a href=\"http://scikit-learn.org/stable/#\"><img src=\"http://scikit-learn.org/stable/_static/scikit-learn-logo-small.png\" style=\"max-width: 100px; display: inline\" alt=\"Scikit-learn\"/></a>"
   ]
  },
  {
   "cell_type": "markdown",
   "id": "7a78b11d-ca39-4843-ae55-69df63718c3b",
   "metadata": {},
   "source": [
    "# Introduction"
   ]
  },
  {
   "cell_type": "markdown",
   "id": "f88b6068-4ec1-467d-9fdc-87d7ceaed59d",
   "metadata": {},
   "source": [
    "Les données sont issues du site du concours KAGGLE; il s’agit du jeu de données \" Gym Members Exercise\n",
    "Dataset\" disponible ici : https://www.kaggle.com/datasets/valakhorasani/gym-members-exercise-dataset.\n",
    "Ce jeu de données fournit un aperçu détaillé des routines d’exercice, des attributs physiques et des mesures\n",
    "de la condition physique des membres d’une salle de sport. Il contient 15 variables observées chez 973 individus\n",
    "fréquentant une salle de sport :\n",
    "- Age : âge du membre de la salle de sport.\n",
    "- Gender : Sexe du membre de la salle de sport (qualitative à deux modalités : homme ou femme).\n",
    "- Weight..kg. : Poids du membre en kilogrammes.\n",
    "- Height..m. : Taille du membre en mètres.\n",
    "- Max_BPM : Fréquence cardiaque maximale (battements par minute) pendant les séances d’entraînement.\n",
    "- Avg_BPM : Fréquence cardiaque moyenne pendant les séances d’entraînement.\n",
    "- Resting_BPM : Fréquence cardiaque au repos avant l’entraînement.\n",
    "- Session_Duration..hours. : Durée de chaque séance d’entraînement en heures.\n",
    "- Calories_Burned : Total des calories brûlées au cours de chaque séance.\n",
    "- Workout_Type : Type d’entraînement effectué (qualitative à 4 modalités : cardio, musculation, yoga,\n",
    "HIIT).\n",
    "- Fat_Percentage (Pourcentage de graisse) : Pourcentage de graisse corporelle du membre.\n",
    "- Water_Intake..liters. : Consommation quotidienne d’eau pendant les séances d’entraînement.\n",
    "- Workout_Frequency..days.week. : Nombre de séances d’entraînement par semaine (qualitative à 4\n",
    "modalités : 2 à 5).\n",
    "- Experience_Level : Niveau d’expérience (qualitative à 3 modalités : 1 pour débutant à 3 pour expert).\n",
    "- BMI : Indice de masse corporelle (IMC), calculé à partir de la taille et du poids.\n",
    "\n",
    "  \n",
    "Dans ce projet, on souhaite dans un premier temps, prédire la variable **Calories_Burned** à partir de toutes\n",
    "les autres variables, et dans un second temps, prédire la variable **Experience_Level** à partir de toutes les autres\n",
    "variables (dont Calories_Burned).\n",
    "\n",
    "Pour cela nous allons commencer par une exploration des variables quantitatives et qualitatives. Ensuite nous passerons à la modélisation des variables à prédire.\n"
   ]
  },
  {
   "cell_type": "code",
   "execution_count": 73,
   "id": "a182ce9d-ee10-441c-9b3a-1ab119c98559",
   "metadata": {},
   "outputs": [],
   "source": [
    "# Chargement des librairies nécessaires\n",
    "import numpy as np\n",
    "import pandas as pd\n",
    "import matplotlib.pyplot as plt\n",
    "from sklearn.metrics import classification_report\n",
    "from sklearn.tree import DecisionTreeClassifier\n",
    "from sklearn.tree import plot_tree\n",
    "from sklearn.ensemble import RandomForestClassifier\n",
    "\n"
   ]
  },
  {
   "cell_type": "markdown",
   "id": "a3af6e93-edab-4919-8d1e-0b1c3f453506",
   "metadata": {
    "jp-MarkdownHeadingCollapsed": true
   },
   "source": [
    "<h1 style=\"color:red\">I)  Exploration des variables</h1>\r\n"
   ]
  },
  {
   "cell_type": "markdown",
   "id": "3704c8c9-5313-45a7-9414-630c7ddd0457",
   "metadata": {},
   "source": [
    "### 1) Prise en charge des données : Vérification de la nature des différentes variables et leur encodage. Convertion des variables qualitatives."
   ]
  },
  {
   "cell_type": "code",
   "execution_count": 2,
   "id": "a0e922bb-2194-4253-a0f4-9af608edc9c5",
   "metadata": {},
   "outputs": [
    {
     "name": "stdout",
     "output_type": "stream",
     "text": [
      "Aperçu des premières lignes du jeu de données:\n"
     ]
    },
    {
     "data": {
      "text/html": [
       "<div>\n",
       "<style scoped>\n",
       "    .dataframe tbody tr th:only-of-type {\n",
       "        vertical-align: middle;\n",
       "    }\n",
       "\n",
       "    .dataframe tbody tr th {\n",
       "        vertical-align: top;\n",
       "    }\n",
       "\n",
       "    .dataframe thead th {\n",
       "        text-align: right;\n",
       "    }\n",
       "</style>\n",
       "<table border=\"1\" class=\"dataframe\">\n",
       "  <thead>\n",
       "    <tr style=\"text-align: right;\">\n",
       "      <th></th>\n",
       "      <th>Age</th>\n",
       "      <th>Gender</th>\n",
       "      <th>Weight (kg)</th>\n",
       "      <th>Height (m)</th>\n",
       "      <th>Max_BPM</th>\n",
       "      <th>Avg_BPM</th>\n",
       "      <th>Resting_BPM</th>\n",
       "      <th>Session_Duration (hours)</th>\n",
       "      <th>Calories_Burned</th>\n",
       "      <th>Workout_Type</th>\n",
       "      <th>Fat_Percentage</th>\n",
       "      <th>Water_Intake (liters)</th>\n",
       "      <th>Workout_Frequency (days/week)</th>\n",
       "      <th>Experience_Level</th>\n",
       "      <th>BMI</th>\n",
       "    </tr>\n",
       "  </thead>\n",
       "  <tbody>\n",
       "    <tr>\n",
       "      <th>0</th>\n",
       "      <td>56</td>\n",
       "      <td>Male</td>\n",
       "      <td>88.3</td>\n",
       "      <td>1.71</td>\n",
       "      <td>180</td>\n",
       "      <td>157</td>\n",
       "      <td>60</td>\n",
       "      <td>1.69</td>\n",
       "      <td>1313.0</td>\n",
       "      <td>Yoga</td>\n",
       "      <td>12.6</td>\n",
       "      <td>3.5</td>\n",
       "      <td>4</td>\n",
       "      <td>3</td>\n",
       "      <td>30.20</td>\n",
       "    </tr>\n",
       "    <tr>\n",
       "      <th>1</th>\n",
       "      <td>46</td>\n",
       "      <td>Female</td>\n",
       "      <td>74.9</td>\n",
       "      <td>1.53</td>\n",
       "      <td>179</td>\n",
       "      <td>151</td>\n",
       "      <td>66</td>\n",
       "      <td>1.30</td>\n",
       "      <td>883.0</td>\n",
       "      <td>HIIT</td>\n",
       "      <td>33.9</td>\n",
       "      <td>2.1</td>\n",
       "      <td>4</td>\n",
       "      <td>2</td>\n",
       "      <td>32.00</td>\n",
       "    </tr>\n",
       "    <tr>\n",
       "      <th>2</th>\n",
       "      <td>32</td>\n",
       "      <td>Female</td>\n",
       "      <td>68.1</td>\n",
       "      <td>1.66</td>\n",
       "      <td>167</td>\n",
       "      <td>122</td>\n",
       "      <td>54</td>\n",
       "      <td>1.11</td>\n",
       "      <td>677.0</td>\n",
       "      <td>Cardio</td>\n",
       "      <td>33.4</td>\n",
       "      <td>2.3</td>\n",
       "      <td>4</td>\n",
       "      <td>2</td>\n",
       "      <td>24.71</td>\n",
       "    </tr>\n",
       "    <tr>\n",
       "      <th>3</th>\n",
       "      <td>25</td>\n",
       "      <td>Male</td>\n",
       "      <td>53.2</td>\n",
       "      <td>1.70</td>\n",
       "      <td>190</td>\n",
       "      <td>164</td>\n",
       "      <td>56</td>\n",
       "      <td>0.59</td>\n",
       "      <td>532.0</td>\n",
       "      <td>Strength</td>\n",
       "      <td>28.8</td>\n",
       "      <td>2.1</td>\n",
       "      <td>3</td>\n",
       "      <td>1</td>\n",
       "      <td>18.41</td>\n",
       "    </tr>\n",
       "    <tr>\n",
       "      <th>4</th>\n",
       "      <td>38</td>\n",
       "      <td>Male</td>\n",
       "      <td>46.1</td>\n",
       "      <td>1.79</td>\n",
       "      <td>188</td>\n",
       "      <td>158</td>\n",
       "      <td>68</td>\n",
       "      <td>0.64</td>\n",
       "      <td>556.0</td>\n",
       "      <td>Strength</td>\n",
       "      <td>29.2</td>\n",
       "      <td>2.8</td>\n",
       "      <td>3</td>\n",
       "      <td>1</td>\n",
       "      <td>14.39</td>\n",
       "    </tr>\n",
       "  </tbody>\n",
       "</table>\n",
       "</div>"
      ],
      "text/plain": [
       "   Age  Gender  Weight (kg)  Height (m)  Max_BPM  Avg_BPM  Resting_BPM  \\\n",
       "0   56    Male         88.3        1.71      180      157           60   \n",
       "1   46  Female         74.9        1.53      179      151           66   \n",
       "2   32  Female         68.1        1.66      167      122           54   \n",
       "3   25    Male         53.2        1.70      190      164           56   \n",
       "4   38    Male         46.1        1.79      188      158           68   \n",
       "\n",
       "   Session_Duration (hours)  Calories_Burned Workout_Type  Fat_Percentage  \\\n",
       "0                      1.69           1313.0         Yoga            12.6   \n",
       "1                      1.30            883.0         HIIT            33.9   \n",
       "2                      1.11            677.0       Cardio            33.4   \n",
       "3                      0.59            532.0     Strength            28.8   \n",
       "4                      0.64            556.0     Strength            29.2   \n",
       "\n",
       "   Water_Intake (liters)  Workout_Frequency (days/week)  Experience_Level  \\\n",
       "0                    3.5                              4                 3   \n",
       "1                    2.1                              4                 2   \n",
       "2                    2.3                              4                 2   \n",
       "3                    2.1                              3                 1   \n",
       "4                    2.8                              3                 1   \n",
       "\n",
       "     BMI  \n",
       "0  30.20  \n",
       "1  32.00  \n",
       "2  24.71  \n",
       "3  18.41  \n",
       "4  14.39  "
      ]
     },
     "metadata": {},
     "output_type": "display_data"
    },
    {
     "name": "stdout",
     "output_type": "stream",
     "text": [
      "\n",
      "Résumé statistique du jeu de données:\n"
     ]
    },
    {
     "data": {
      "text/html": [
       "<div>\n",
       "<style scoped>\n",
       "    .dataframe tbody tr th:only-of-type {\n",
       "        vertical-align: middle;\n",
       "    }\n",
       "\n",
       "    .dataframe tbody tr th {\n",
       "        vertical-align: top;\n",
       "    }\n",
       "\n",
       "    .dataframe thead th {\n",
       "        text-align: right;\n",
       "    }\n",
       "</style>\n",
       "<table border=\"1\" class=\"dataframe\">\n",
       "  <thead>\n",
       "    <tr style=\"text-align: right;\">\n",
       "      <th></th>\n",
       "      <th>Age</th>\n",
       "      <th>Gender</th>\n",
       "      <th>Weight (kg)</th>\n",
       "      <th>Height (m)</th>\n",
       "      <th>Max_BPM</th>\n",
       "      <th>Avg_BPM</th>\n",
       "      <th>Resting_BPM</th>\n",
       "      <th>Session_Duration (hours)</th>\n",
       "      <th>Calories_Burned</th>\n",
       "      <th>Workout_Type</th>\n",
       "      <th>Fat_Percentage</th>\n",
       "      <th>Water_Intake (liters)</th>\n",
       "      <th>Workout_Frequency (days/week)</th>\n",
       "      <th>Experience_Level</th>\n",
       "      <th>BMI</th>\n",
       "    </tr>\n",
       "  </thead>\n",
       "  <tbody>\n",
       "    <tr>\n",
       "      <th>count</th>\n",
       "      <td>973.000000</td>\n",
       "      <td>973</td>\n",
       "      <td>973.000000</td>\n",
       "      <td>973.00000</td>\n",
       "      <td>973.000000</td>\n",
       "      <td>973.000000</td>\n",
       "      <td>973.000000</td>\n",
       "      <td>973.000000</td>\n",
       "      <td>973.000000</td>\n",
       "      <td>973</td>\n",
       "      <td>973.000000</td>\n",
       "      <td>973.000000</td>\n",
       "      <td>973.000000</td>\n",
       "      <td>973.000000</td>\n",
       "      <td>973.000000</td>\n",
       "    </tr>\n",
       "    <tr>\n",
       "      <th>unique</th>\n",
       "      <td>NaN</td>\n",
       "      <td>2</td>\n",
       "      <td>NaN</td>\n",
       "      <td>NaN</td>\n",
       "      <td>NaN</td>\n",
       "      <td>NaN</td>\n",
       "      <td>NaN</td>\n",
       "      <td>NaN</td>\n",
       "      <td>NaN</td>\n",
       "      <td>4</td>\n",
       "      <td>NaN</td>\n",
       "      <td>NaN</td>\n",
       "      <td>NaN</td>\n",
       "      <td>NaN</td>\n",
       "      <td>NaN</td>\n",
       "    </tr>\n",
       "    <tr>\n",
       "      <th>top</th>\n",
       "      <td>NaN</td>\n",
       "      <td>Male</td>\n",
       "      <td>NaN</td>\n",
       "      <td>NaN</td>\n",
       "      <td>NaN</td>\n",
       "      <td>NaN</td>\n",
       "      <td>NaN</td>\n",
       "      <td>NaN</td>\n",
       "      <td>NaN</td>\n",
       "      <td>Strength</td>\n",
       "      <td>NaN</td>\n",
       "      <td>NaN</td>\n",
       "      <td>NaN</td>\n",
       "      <td>NaN</td>\n",
       "      <td>NaN</td>\n",
       "    </tr>\n",
       "    <tr>\n",
       "      <th>freq</th>\n",
       "      <td>NaN</td>\n",
       "      <td>511</td>\n",
       "      <td>NaN</td>\n",
       "      <td>NaN</td>\n",
       "      <td>NaN</td>\n",
       "      <td>NaN</td>\n",
       "      <td>NaN</td>\n",
       "      <td>NaN</td>\n",
       "      <td>NaN</td>\n",
       "      <td>258</td>\n",
       "      <td>NaN</td>\n",
       "      <td>NaN</td>\n",
       "      <td>NaN</td>\n",
       "      <td>NaN</td>\n",
       "      <td>NaN</td>\n",
       "    </tr>\n",
       "    <tr>\n",
       "      <th>mean</th>\n",
       "      <td>38.683453</td>\n",
       "      <td>NaN</td>\n",
       "      <td>73.854676</td>\n",
       "      <td>1.72258</td>\n",
       "      <td>179.883864</td>\n",
       "      <td>143.766701</td>\n",
       "      <td>62.223022</td>\n",
       "      <td>1.256423</td>\n",
       "      <td>905.422405</td>\n",
       "      <td>NaN</td>\n",
       "      <td>24.976773</td>\n",
       "      <td>2.626619</td>\n",
       "      <td>3.321686</td>\n",
       "      <td>1.809866</td>\n",
       "      <td>24.912127</td>\n",
       "    </tr>\n",
       "    <tr>\n",
       "      <th>std</th>\n",
       "      <td>12.180928</td>\n",
       "      <td>NaN</td>\n",
       "      <td>21.207500</td>\n",
       "      <td>0.12772</td>\n",
       "      <td>11.525686</td>\n",
       "      <td>14.345101</td>\n",
       "      <td>7.327060</td>\n",
       "      <td>0.343033</td>\n",
       "      <td>272.641516</td>\n",
       "      <td>NaN</td>\n",
       "      <td>6.259419</td>\n",
       "      <td>0.600172</td>\n",
       "      <td>0.913047</td>\n",
       "      <td>0.739693</td>\n",
       "      <td>6.660879</td>\n",
       "    </tr>\n",
       "    <tr>\n",
       "      <th>min</th>\n",
       "      <td>18.000000</td>\n",
       "      <td>NaN</td>\n",
       "      <td>40.000000</td>\n",
       "      <td>1.50000</td>\n",
       "      <td>160.000000</td>\n",
       "      <td>120.000000</td>\n",
       "      <td>50.000000</td>\n",
       "      <td>0.500000</td>\n",
       "      <td>303.000000</td>\n",
       "      <td>NaN</td>\n",
       "      <td>10.000000</td>\n",
       "      <td>1.500000</td>\n",
       "      <td>2.000000</td>\n",
       "      <td>1.000000</td>\n",
       "      <td>12.320000</td>\n",
       "    </tr>\n",
       "    <tr>\n",
       "      <th>25%</th>\n",
       "      <td>28.000000</td>\n",
       "      <td>NaN</td>\n",
       "      <td>58.100000</td>\n",
       "      <td>1.62000</td>\n",
       "      <td>170.000000</td>\n",
       "      <td>131.000000</td>\n",
       "      <td>56.000000</td>\n",
       "      <td>1.040000</td>\n",
       "      <td>720.000000</td>\n",
       "      <td>NaN</td>\n",
       "      <td>21.300000</td>\n",
       "      <td>2.200000</td>\n",
       "      <td>3.000000</td>\n",
       "      <td>1.000000</td>\n",
       "      <td>20.110000</td>\n",
       "    </tr>\n",
       "    <tr>\n",
       "      <th>50%</th>\n",
       "      <td>40.000000</td>\n",
       "      <td>NaN</td>\n",
       "      <td>70.000000</td>\n",
       "      <td>1.71000</td>\n",
       "      <td>180.000000</td>\n",
       "      <td>143.000000</td>\n",
       "      <td>62.000000</td>\n",
       "      <td>1.260000</td>\n",
       "      <td>893.000000</td>\n",
       "      <td>NaN</td>\n",
       "      <td>26.200000</td>\n",
       "      <td>2.600000</td>\n",
       "      <td>3.000000</td>\n",
       "      <td>2.000000</td>\n",
       "      <td>24.160000</td>\n",
       "    </tr>\n",
       "    <tr>\n",
       "      <th>75%</th>\n",
       "      <td>49.000000</td>\n",
       "      <td>NaN</td>\n",
       "      <td>86.000000</td>\n",
       "      <td>1.80000</td>\n",
       "      <td>190.000000</td>\n",
       "      <td>156.000000</td>\n",
       "      <td>68.000000</td>\n",
       "      <td>1.460000</td>\n",
       "      <td>1076.000000</td>\n",
       "      <td>NaN</td>\n",
       "      <td>29.300000</td>\n",
       "      <td>3.100000</td>\n",
       "      <td>4.000000</td>\n",
       "      <td>2.000000</td>\n",
       "      <td>28.560000</td>\n",
       "    </tr>\n",
       "    <tr>\n",
       "      <th>max</th>\n",
       "      <td>59.000000</td>\n",
       "      <td>NaN</td>\n",
       "      <td>129.900000</td>\n",
       "      <td>2.00000</td>\n",
       "      <td>199.000000</td>\n",
       "      <td>169.000000</td>\n",
       "      <td>74.000000</td>\n",
       "      <td>2.000000</td>\n",
       "      <td>1783.000000</td>\n",
       "      <td>NaN</td>\n",
       "      <td>35.000000</td>\n",
       "      <td>3.700000</td>\n",
       "      <td>5.000000</td>\n",
       "      <td>3.000000</td>\n",
       "      <td>49.840000</td>\n",
       "    </tr>\n",
       "  </tbody>\n",
       "</table>\n",
       "</div>"
      ],
      "text/plain": [
       "               Age Gender  Weight (kg)  Height (m)     Max_BPM     Avg_BPM  \\\n",
       "count   973.000000    973   973.000000   973.00000  973.000000  973.000000   \n",
       "unique         NaN      2          NaN         NaN         NaN         NaN   \n",
       "top            NaN   Male          NaN         NaN         NaN         NaN   \n",
       "freq           NaN    511          NaN         NaN         NaN         NaN   \n",
       "mean     38.683453    NaN    73.854676     1.72258  179.883864  143.766701   \n",
       "std      12.180928    NaN    21.207500     0.12772   11.525686   14.345101   \n",
       "min      18.000000    NaN    40.000000     1.50000  160.000000  120.000000   \n",
       "25%      28.000000    NaN    58.100000     1.62000  170.000000  131.000000   \n",
       "50%      40.000000    NaN    70.000000     1.71000  180.000000  143.000000   \n",
       "75%      49.000000    NaN    86.000000     1.80000  190.000000  156.000000   \n",
       "max      59.000000    NaN   129.900000     2.00000  199.000000  169.000000   \n",
       "\n",
       "        Resting_BPM  Session_Duration (hours)  Calories_Burned Workout_Type  \\\n",
       "count    973.000000                973.000000       973.000000          973   \n",
       "unique          NaN                       NaN              NaN            4   \n",
       "top             NaN                       NaN              NaN     Strength   \n",
       "freq            NaN                       NaN              NaN          258   \n",
       "mean      62.223022                  1.256423       905.422405          NaN   \n",
       "std        7.327060                  0.343033       272.641516          NaN   \n",
       "min       50.000000                  0.500000       303.000000          NaN   \n",
       "25%       56.000000                  1.040000       720.000000          NaN   \n",
       "50%       62.000000                  1.260000       893.000000          NaN   \n",
       "75%       68.000000                  1.460000      1076.000000          NaN   \n",
       "max       74.000000                  2.000000      1783.000000          NaN   \n",
       "\n",
       "        Fat_Percentage  Water_Intake (liters)  Workout_Frequency (days/week)  \\\n",
       "count       973.000000             973.000000                     973.000000   \n",
       "unique             NaN                    NaN                            NaN   \n",
       "top                NaN                    NaN                            NaN   \n",
       "freq               NaN                    NaN                            NaN   \n",
       "mean         24.976773               2.626619                       3.321686   \n",
       "std           6.259419               0.600172                       0.913047   \n",
       "min          10.000000               1.500000                       2.000000   \n",
       "25%          21.300000               2.200000                       3.000000   \n",
       "50%          26.200000               2.600000                       3.000000   \n",
       "75%          29.300000               3.100000                       4.000000   \n",
       "max          35.000000               3.700000                       5.000000   \n",
       "\n",
       "        Experience_Level         BMI  \n",
       "count         973.000000  973.000000  \n",
       "unique               NaN         NaN  \n",
       "top                  NaN         NaN  \n",
       "freq                 NaN         NaN  \n",
       "mean            1.809866   24.912127  \n",
       "std             0.739693    6.660879  \n",
       "min             1.000000   12.320000  \n",
       "25%             1.000000   20.110000  \n",
       "50%             2.000000   24.160000  \n",
       "75%             2.000000   28.560000  \n",
       "max             3.000000   49.840000  "
      ]
     },
     "metadata": {},
     "output_type": "display_data"
    }
   ],
   "source": [
    "# Lecture des données\n",
    "path = \"\"\n",
    "gym = pd.read_csv(\"gym_members_exercise_tracking.csv\")\n",
    "\n",
    "# Affichage des premières lignes\n",
    "print(\"Aperçu des premières lignes du jeu de données:\")\n",
    "display(gym.head())  \n",
    "\n",
    "# Résumé statistique\n",
    "print(\"\\nRésumé statistique du jeu de données:\")\n",
    "display(gym.describe(include='all'))  "
   ]
  },
  {
   "cell_type": "markdown",
   "id": "1c5b0637-80fd-4b30-acb9-7c473a694f00",
   "metadata": {},
   "source": [
    "On remarque que il y a plusieurs variables qualitatives : Gender, Workout_Type.\n",
    "De même certaines variables ne prennent pas beaucoup de valeurs différentes donc il est intérréssant de les convertir en facteur : Experience_Level, Workout_Frequency..days.week.\n",
    "\n",
    "Les autres variables sont des variables quantitatives que l'on transformera plus tard. "
   ]
  },
  {
   "cell_type": "code",
   "execution_count": 3,
   "id": "35a30984-3199-4ca1-85a2-75915d6bc092",
   "metadata": {},
   "outputs": [
    {
     "name": "stdout",
     "output_type": "stream",
     "text": [
      "['Age', 'Gender', 'Weight (kg)', 'Height (m)', 'Max_BPM', 'Avg_BPM', 'Resting_BPM', 'Session_Duration (hours)', 'Calories_Burned', 'Workout_Type', 'Fat_Percentage', 'Water_Intake (liters)', 'Workout_Frequency (days/week)', 'Experience_Level', 'BMI']\n"
     ]
    }
   ],
   "source": [
    "print(gym.columns.tolist())"
   ]
  },
  {
   "cell_type": "code",
   "execution_count": 4,
   "id": "837f6131-2ea0-47ef-ac1b-8bda8c0128e8",
   "metadata": {},
   "outputs": [],
   "source": [
    "# Nettoyage des noms de colonnes : suppression des unités entre parenthèses et espaces\n",
    "gym.columns = (\n",
    "    gym.columns\n",
    "    .str.replace(r\"\\s*\\(.*?\\)\", \"\", regex=True)  # Supprime tout ce qui est entre parenthèses\n",
    "    .str.replace(\" \", \"_\")                      # Remplace les espaces par des underscores\n",
    ")\n"
   ]
  },
  {
   "cell_type": "code",
   "execution_count": 5,
   "id": "f2594888-b162-4c74-a76e-ffc60f6eff9f",
   "metadata": {},
   "outputs": [
    {
     "name": "stdout",
     "output_type": "stream",
     "text": [
      "['Age', 'Gender', 'Weight', 'Height', 'Max_BPM', 'Avg_BPM', 'Resting_BPM', 'Session_Duration', 'Calories_Burned', 'Workout_Type', 'Fat_Percentage', 'Water_Intake', 'Workout_Frequency', 'Experience_Level', 'BMI']\n"
     ]
    }
   ],
   "source": [
    "print(gym.columns.tolist())"
   ]
  },
  {
   "cell_type": "code",
   "execution_count": 6,
   "id": "bfd292cb-4280-4ef9-92c8-ffecaadab652",
   "metadata": {},
   "outputs": [],
   "source": [
    "# Conversion des colonnes en types catégoriels\n",
    "categorical_columns = [\n",
    "    \"Gender\",\n",
    "    \"Workout_Type\",\n",
    "    \"Experience_Level\",\n",
    "    \"Workout_Frequency\"\n",
    "]\n",
    "\n",
    "for col in categorical_columns:\n",
    "    gym[col] = gym[col].astype(\"category\")\n"
   ]
  },
  {
   "cell_type": "markdown",
   "id": "9542a25f-b4ab-42d0-84fd-f16eb88263e3",
   "metadata": {},
   "source": [
    "### 2) Exploration par une analyse descriptive unidimensionnelle des données."
   ]
  },
  {
   "cell_type": "markdown",
   "id": "343288d1-7ea6-448b-bbe7-0dce80789d8a",
   "metadata": {},
   "source": [
    "Conformément aux analyses faites sur le fichier R, nous transformons les variables Weight et BMI."
   ]
  },
  {
   "cell_type": "code",
   "execution_count": 7,
   "id": "5042d561-a174-441e-b73c-a1347b533323",
   "metadata": {},
   "outputs": [],
   "source": [
    "# Application du logarithme sur les colonnes 'Weight..kg.' et 'BMI'\n",
    "gym[\"LWeight\"] = np.log(gym[\"Weight\"])\n",
    "gym[\"LBMI\"] = np.log(gym[\"BMI\"])\n",
    "\n",
    "# Supprimer les colonnes originales\n",
    "gym.drop(columns=[\"Weight\", \"BMI\"], inplace=True)"
   ]
  },
  {
   "cell_type": "code",
   "execution_count": 8,
   "id": "a7c42b97-3366-4fe1-80a6-eea23e4a59f0",
   "metadata": {},
   "outputs": [
    {
     "name": "stdout",
     "output_type": "stream",
     "text": [
      "\n",
      "Résumé statistique du jeu de données:\n"
     ]
    },
    {
     "data": {
      "text/html": [
       "<div>\n",
       "<style scoped>\n",
       "    .dataframe tbody tr th:only-of-type {\n",
       "        vertical-align: middle;\n",
       "    }\n",
       "\n",
       "    .dataframe tbody tr th {\n",
       "        vertical-align: top;\n",
       "    }\n",
       "\n",
       "    .dataframe thead th {\n",
       "        text-align: right;\n",
       "    }\n",
       "</style>\n",
       "<table border=\"1\" class=\"dataframe\">\n",
       "  <thead>\n",
       "    <tr style=\"text-align: right;\">\n",
       "      <th></th>\n",
       "      <th>Age</th>\n",
       "      <th>Gender</th>\n",
       "      <th>Height</th>\n",
       "      <th>Max_BPM</th>\n",
       "      <th>Avg_BPM</th>\n",
       "      <th>Resting_BPM</th>\n",
       "      <th>Session_Duration</th>\n",
       "      <th>Calories_Burned</th>\n",
       "      <th>Workout_Type</th>\n",
       "      <th>Fat_Percentage</th>\n",
       "      <th>Water_Intake</th>\n",
       "      <th>Workout_Frequency</th>\n",
       "      <th>Experience_Level</th>\n",
       "      <th>LWeight</th>\n",
       "      <th>LBMI</th>\n",
       "    </tr>\n",
       "  </thead>\n",
       "  <tbody>\n",
       "    <tr>\n",
       "      <th>count</th>\n",
       "      <td>973.000000</td>\n",
       "      <td>973</td>\n",
       "      <td>973.00000</td>\n",
       "      <td>973.000000</td>\n",
       "      <td>973.000000</td>\n",
       "      <td>973.000000</td>\n",
       "      <td>973.000000</td>\n",
       "      <td>973.000000</td>\n",
       "      <td>973</td>\n",
       "      <td>973.000000</td>\n",
       "      <td>973.000000</td>\n",
       "      <td>973.0</td>\n",
       "      <td>973.0</td>\n",
       "      <td>973.000000</td>\n",
       "      <td>973.000000</td>\n",
       "    </tr>\n",
       "    <tr>\n",
       "      <th>unique</th>\n",
       "      <td>NaN</td>\n",
       "      <td>2</td>\n",
       "      <td>NaN</td>\n",
       "      <td>NaN</td>\n",
       "      <td>NaN</td>\n",
       "      <td>NaN</td>\n",
       "      <td>NaN</td>\n",
       "      <td>NaN</td>\n",
       "      <td>4</td>\n",
       "      <td>NaN</td>\n",
       "      <td>NaN</td>\n",
       "      <td>4.0</td>\n",
       "      <td>3.0</td>\n",
       "      <td>NaN</td>\n",
       "      <td>NaN</td>\n",
       "    </tr>\n",
       "    <tr>\n",
       "      <th>top</th>\n",
       "      <td>NaN</td>\n",
       "      <td>Male</td>\n",
       "      <td>NaN</td>\n",
       "      <td>NaN</td>\n",
       "      <td>NaN</td>\n",
       "      <td>NaN</td>\n",
       "      <td>NaN</td>\n",
       "      <td>NaN</td>\n",
       "      <td>Strength</td>\n",
       "      <td>NaN</td>\n",
       "      <td>NaN</td>\n",
       "      <td>3.0</td>\n",
       "      <td>2.0</td>\n",
       "      <td>NaN</td>\n",
       "      <td>NaN</td>\n",
       "    </tr>\n",
       "    <tr>\n",
       "      <th>freq</th>\n",
       "      <td>NaN</td>\n",
       "      <td>511</td>\n",
       "      <td>NaN</td>\n",
       "      <td>NaN</td>\n",
       "      <td>NaN</td>\n",
       "      <td>NaN</td>\n",
       "      <td>NaN</td>\n",
       "      <td>NaN</td>\n",
       "      <td>258</td>\n",
       "      <td>NaN</td>\n",
       "      <td>NaN</td>\n",
       "      <td>368.0</td>\n",
       "      <td>406.0</td>\n",
       "      <td>NaN</td>\n",
       "      <td>NaN</td>\n",
       "    </tr>\n",
       "    <tr>\n",
       "      <th>mean</th>\n",
       "      <td>38.683453</td>\n",
       "      <td>NaN</td>\n",
       "      <td>1.72258</td>\n",
       "      <td>179.883864</td>\n",
       "      <td>143.766701</td>\n",
       "      <td>62.223022</td>\n",
       "      <td>1.256423</td>\n",
       "      <td>905.422405</td>\n",
       "      <td>NaN</td>\n",
       "      <td>24.976773</td>\n",
       "      <td>2.626619</td>\n",
       "      <td>NaN</td>\n",
       "      <td>NaN</td>\n",
       "      <td>4.262981</td>\n",
       "      <td>3.180764</td>\n",
       "    </tr>\n",
       "    <tr>\n",
       "      <th>std</th>\n",
       "      <td>12.180928</td>\n",
       "      <td>NaN</td>\n",
       "      <td>0.12772</td>\n",
       "      <td>11.525686</td>\n",
       "      <td>14.345101</td>\n",
       "      <td>7.327060</td>\n",
       "      <td>0.343033</td>\n",
       "      <td>272.641516</td>\n",
       "      <td>NaN</td>\n",
       "      <td>6.259419</td>\n",
       "      <td>0.600172</td>\n",
       "      <td>NaN</td>\n",
       "      <td>NaN</td>\n",
       "      <td>0.277751</td>\n",
       "      <td>0.263097</td>\n",
       "    </tr>\n",
       "    <tr>\n",
       "      <th>min</th>\n",
       "      <td>18.000000</td>\n",
       "      <td>NaN</td>\n",
       "      <td>1.50000</td>\n",
       "      <td>160.000000</td>\n",
       "      <td>120.000000</td>\n",
       "      <td>50.000000</td>\n",
       "      <td>0.500000</td>\n",
       "      <td>303.000000</td>\n",
       "      <td>NaN</td>\n",
       "      <td>10.000000</td>\n",
       "      <td>1.500000</td>\n",
       "      <td>NaN</td>\n",
       "      <td>NaN</td>\n",
       "      <td>3.688879</td>\n",
       "      <td>2.511224</td>\n",
       "    </tr>\n",
       "    <tr>\n",
       "      <th>25%</th>\n",
       "      <td>28.000000</td>\n",
       "      <td>NaN</td>\n",
       "      <td>1.62000</td>\n",
       "      <td>170.000000</td>\n",
       "      <td>131.000000</td>\n",
       "      <td>56.000000</td>\n",
       "      <td>1.040000</td>\n",
       "      <td>720.000000</td>\n",
       "      <td>NaN</td>\n",
       "      <td>21.300000</td>\n",
       "      <td>2.200000</td>\n",
       "      <td>NaN</td>\n",
       "      <td>NaN</td>\n",
       "      <td>4.062166</td>\n",
       "      <td>3.001217</td>\n",
       "    </tr>\n",
       "    <tr>\n",
       "      <th>50%</th>\n",
       "      <td>40.000000</td>\n",
       "      <td>NaN</td>\n",
       "      <td>1.71000</td>\n",
       "      <td>180.000000</td>\n",
       "      <td>143.000000</td>\n",
       "      <td>62.000000</td>\n",
       "      <td>1.260000</td>\n",
       "      <td>893.000000</td>\n",
       "      <td>NaN</td>\n",
       "      <td>26.200000</td>\n",
       "      <td>2.600000</td>\n",
       "      <td>NaN</td>\n",
       "      <td>NaN</td>\n",
       "      <td>4.248495</td>\n",
       "      <td>3.184698</td>\n",
       "    </tr>\n",
       "    <tr>\n",
       "      <th>75%</th>\n",
       "      <td>49.000000</td>\n",
       "      <td>NaN</td>\n",
       "      <td>1.80000</td>\n",
       "      <td>190.000000</td>\n",
       "      <td>156.000000</td>\n",
       "      <td>68.000000</td>\n",
       "      <td>1.460000</td>\n",
       "      <td>1076.000000</td>\n",
       "      <td>NaN</td>\n",
       "      <td>29.300000</td>\n",
       "      <td>3.100000</td>\n",
       "      <td>NaN</td>\n",
       "      <td>NaN</td>\n",
       "      <td>4.454347</td>\n",
       "      <td>3.352007</td>\n",
       "    </tr>\n",
       "    <tr>\n",
       "      <th>max</th>\n",
       "      <td>59.000000</td>\n",
       "      <td>NaN</td>\n",
       "      <td>2.00000</td>\n",
       "      <td>199.000000</td>\n",
       "      <td>169.000000</td>\n",
       "      <td>74.000000</td>\n",
       "      <td>2.000000</td>\n",
       "      <td>1783.000000</td>\n",
       "      <td>NaN</td>\n",
       "      <td>35.000000</td>\n",
       "      <td>3.700000</td>\n",
       "      <td>NaN</td>\n",
       "      <td>NaN</td>\n",
       "      <td>4.866765</td>\n",
       "      <td>3.908818</td>\n",
       "    </tr>\n",
       "  </tbody>\n",
       "</table>\n",
       "</div>"
      ],
      "text/plain": [
       "               Age Gender     Height     Max_BPM     Avg_BPM  Resting_BPM  \\\n",
       "count   973.000000    973  973.00000  973.000000  973.000000   973.000000   \n",
       "unique         NaN      2        NaN         NaN         NaN          NaN   \n",
       "top            NaN   Male        NaN         NaN         NaN          NaN   \n",
       "freq           NaN    511        NaN         NaN         NaN          NaN   \n",
       "mean     38.683453    NaN    1.72258  179.883864  143.766701    62.223022   \n",
       "std      12.180928    NaN    0.12772   11.525686   14.345101     7.327060   \n",
       "min      18.000000    NaN    1.50000  160.000000  120.000000    50.000000   \n",
       "25%      28.000000    NaN    1.62000  170.000000  131.000000    56.000000   \n",
       "50%      40.000000    NaN    1.71000  180.000000  143.000000    62.000000   \n",
       "75%      49.000000    NaN    1.80000  190.000000  156.000000    68.000000   \n",
       "max      59.000000    NaN    2.00000  199.000000  169.000000    74.000000   \n",
       "\n",
       "        Session_Duration  Calories_Burned Workout_Type  Fat_Percentage  \\\n",
       "count         973.000000       973.000000          973      973.000000   \n",
       "unique               NaN              NaN            4             NaN   \n",
       "top                  NaN              NaN     Strength             NaN   \n",
       "freq                 NaN              NaN          258             NaN   \n",
       "mean            1.256423       905.422405          NaN       24.976773   \n",
       "std             0.343033       272.641516          NaN        6.259419   \n",
       "min             0.500000       303.000000          NaN       10.000000   \n",
       "25%             1.040000       720.000000          NaN       21.300000   \n",
       "50%             1.260000       893.000000          NaN       26.200000   \n",
       "75%             1.460000      1076.000000          NaN       29.300000   \n",
       "max             2.000000      1783.000000          NaN       35.000000   \n",
       "\n",
       "        Water_Intake  Workout_Frequency  Experience_Level     LWeight  \\\n",
       "count     973.000000              973.0             973.0  973.000000   \n",
       "unique           NaN                4.0               3.0         NaN   \n",
       "top              NaN                3.0               2.0         NaN   \n",
       "freq             NaN              368.0             406.0         NaN   \n",
       "mean        2.626619                NaN               NaN    4.262981   \n",
       "std         0.600172                NaN               NaN    0.277751   \n",
       "min         1.500000                NaN               NaN    3.688879   \n",
       "25%         2.200000                NaN               NaN    4.062166   \n",
       "50%         2.600000                NaN               NaN    4.248495   \n",
       "75%         3.100000                NaN               NaN    4.454347   \n",
       "max         3.700000                NaN               NaN    4.866765   \n",
       "\n",
       "              LBMI  \n",
       "count   973.000000  \n",
       "unique         NaN  \n",
       "top            NaN  \n",
       "freq           NaN  \n",
       "mean      3.180764  \n",
       "std       0.263097  \n",
       "min       2.511224  \n",
       "25%       3.001217  \n",
       "50%       3.184698  \n",
       "75%       3.352007  \n",
       "max       3.908818  "
      ]
     },
     "metadata": {},
     "output_type": "display_data"
    }
   ],
   "source": [
    "print(\"\\nRésumé statistique du jeu de données:\")\n",
    "display(gym.describe(include='all'))  "
   ]
  },
  {
   "cell_type": "markdown",
   "id": "b23e789a-1787-4dc0-84cf-3d0db0ebf800",
   "metadata": {},
   "source": [
    "<h1 style=\"color:red\">II- Prédiction des Calories Brulées</h1>\r\n"
   ]
  },
  {
   "cell_type": "markdown",
   "id": "7f6c2978-c0e3-4b0d-9862-df2786360bb9",
   "metadata": {},
   "source": [
    "Nous considérons maintenant le problème de la prédiction la variable Calories_Burned à partir des autres\n",
    "variables du point de vue de l’apprentissage automatique, c’est-à-dire en nous concentrant sur les performances\n",
    "du modèle. L’objectif est de déterminer les meilleures performances que nous pouvons attendre, et les modèles\n",
    "qui les atteignent. "
   ]
  },
  {
   "cell_type": "markdown",
   "id": "d0cc981d-39c5-4d86-9e2e-015bc2db3f8b",
   "metadata": {},
   "source": [
    "## 2.1 Division du jeu de données en un échantillon d'apprentissage et un échantillon test\n",
    "Nous divisons le jeu de données en un échantillon d’apprentissage et un échantillon test. Nous prenons un \n",
    "pourcentage de 20% pour l’échantillon test. \n"
   ]
  },
  {
   "cell_type": "code",
   "execution_count": 9,
   "id": "60ffa72c-c7ef-4a97-b753-b1729b1f13b9",
   "metadata": {},
   "outputs": [
    {
     "name": "stdout",
     "output_type": "stream",
     "text": [
      "['Gender', 'Workout_Type', 'Workout_Frequency', 'Experience_Level']\n"
     ]
    }
   ],
   "source": [
    "#Variables qualitatives\n",
    "qual_vars = gym.select_dtypes(include=\"category\").columns.tolist()\n",
    "gymDum = pd.get_dummies(gym[qual_vars], drop_first=True)\n",
    "print(qual_vars)\n"
   ]
  },
  {
   "cell_type": "code",
   "execution_count": 10,
   "id": "1e531699-d586-4376-8c10-dbccb27d992c",
   "metadata": {},
   "outputs": [],
   "source": [
    "gymQuant=gym[['Age', 'Height', 'Max_BPM', 'Avg_BPM', 'Resting_BPM', 'Session_Duration',  'Fat_Percentage', 'Water_Intake',  'LWeight', 'LBMI']]\n",
    "dfC=pd.concat([gymDum,gymQuant],axis=1)\n",
    "dfC.head()\n",
    "\n",
    "# variable à expliquer réelle\n",
    "Yr=gym[\"Calories_Burned\"]"
   ]
  },
  {
   "cell_type": "code",
   "execution_count": 11,
   "id": "79844f38-e6ca-4a8d-9aab-1a4f117f6f8f",
   "metadata": {},
   "outputs": [],
   "source": [
    "from sklearn.model_selection import train_test_split  \n",
    "X_train, X_test, Yr_train, Yr_test = train_test_split(dfC, Yr, test_size=0.2, random_state=235)"
   ]
  },
  {
   "cell_type": "code",
   "execution_count": 12,
   "id": "3a2d1076-d283-4570-a1d9-81c5d37c5c4d",
   "metadata": {},
   "outputs": [
    {
     "data": {
      "image/png": "[encoded data removed]",
      "text/plain": [
       "<Figure size 640x480 with 1 Axes>"
      ]
     },
     "metadata": {},
     "output_type": "display_data"
    }
   ],
   "source": [
    "Yr.hist()\n",
    "plt.show()"
   ]
  },
  {
   "cell_type": "markdown",
   "id": "bd4e9098-e232-4000-95e7-29e9ca7a1ab3",
   "metadata": {},
   "source": [
    "#### Normalisation des données"
   ]
  },
  {
   "cell_type": "code",
   "execution_count": 13,
   "id": "31e9ff8d-8852-4d3e-b609-97b2081f9f5c",
   "metadata": {},
   "outputs": [],
   "source": [
    "from sklearn.preprocessing import StandardScaler  \n",
    "# L'algorithme des réseaux de neurones nécessite éventuellement une normalisation \n",
    "# des variables explicatives avec les commandes ci-dessous\n",
    "scaler = StandardScaler()  \n",
    "scaler.fit(X_train)\n",
    "Xr_train = scaler.transform(X_train)  \n",
    "# Meme transformation sur le test\n",
    "Xr_test = scaler.transform(X_test)"
   ]
  },
  {
   "cell_type": "markdown",
   "id": "1b9a738e-cdbc-4954-836b-8e32d73935a6",
   "metadata": {},
   "source": [
    "##  2.2 Modèle linéaire (généralisé) avec/sans sélection de variables, avec/sans pénalisation\n"
   ]
  },
  {
   "cell_type": "markdown",
   "id": "180f041a-dbe6-4905-9441-9366b197932c",
   "metadata": {},
   "source": [
    "faudrait faire avec ridge aussi si y'a le temps"
   ]
  },
  {
   "cell_type": "code",
   "execution_count": null,
   "id": "71ef05b4-b861-4863-9f92-e8b10438aeda",
   "metadata": {},
   "outputs": [],
   "source": []
  },
  {
   "cell_type": "markdown",
   "id": "f777f6c6-ee84-4f28-85a5-8d5e75e49f4e",
   "metadata": {},
   "source": [
    "### 2.2.1 Sélection de variable par régularisation L1 (LASSO)"
   ]
  },
  {
   "cell_type": "code",
   "execution_count": 14,
   "id": "33fd8842-8107-45c4-bf97-008470fb56e0",
   "metadata": {},
   "outputs": [
    {
     "name": "stdout",
     "output_type": "stream",
     "text": [
      "MSE= 1438.8323559129446\n"
     ]
    }
   ],
   "source": [
    "from sklearn import linear_model\n",
    "from sklearn.metrics import mean_squared_error\n",
    "regLasso = linear_model.Lasso()\n",
    "regLasso.fit(Xr_train,Yr_train)\n",
    "prev=regLasso.predict(Xr_test)\n",
    "print(\"MSE=\",mean_squared_error(Yr_test,prev))"
   ]
  },
  {
   "cell_type": "code",
   "execution_count": 15,
   "id": "d8cbf843-70da-411b-84b4-bb8ae159176c",
   "metadata": {},
   "outputs": [
    {
     "name": "stdout",
     "output_type": "stream",
     "text": [
      "R2= 0.9811799492144176\n"
     ]
    }
   ],
   "source": [
    "from sklearn.metrics import r2_score\n",
    "print(\"R2=\",r2_score(Yr_test,prev))"
   ]
  },
  {
   "cell_type": "markdown",
   "id": "3d4dcb7f-cb88-4e95-9254-4944234e72a5",
   "metadata": {},
   "source": [
    "Le paramètre de pénalisation Lasso est optimisé par validation croisée ci dessous."
   ]
  },
  {
   "cell_type": "code",
   "execution_count": 16,
   "id": "4768d0cb-5905-4461-972c-d4f26c7c09b9",
   "metadata": {},
   "outputs": [
    {
     "name": "stdout",
     "output_type": "stream",
     "text": [
      "Meilleur R2 = 0.977778, Meilleur paramètre = {'alpha': 0.8}\n"
     ]
    }
   ],
   "source": [
    "from sklearn.model_selection import GridSearchCV\n",
    "\n",
    "# grille de valeurs du paramètre alpha à optimiser\n",
    "param=[{\"alpha\":[0.5,0.8,1,3, 3, 4.52]}]\n",
    "regLasso = GridSearchCV(linear_model.Lasso(), param,cv=10,n_jobs=-1)\n",
    "regLassOpt=regLasso.fit(Xr_train, Yr_train)\n",
    "\n",
    "\n",
    "# paramètre optimal\n",
    "regLassOpt.best_params_[\"alpha\"]\n",
    "print(\"Meilleur R2 = %f, Meilleur paramètre = %s\" % (regLassOpt.best_score_,regLassOpt.best_params_))"
   ]
  },
  {
   "cell_type": "code",
   "execution_count": 17,
   "id": "ebb2e5d9-e0a1-4acf-ad1f-b11eed3e2862",
   "metadata": {},
   "outputs": [
    {
     "name": "stdout",
     "output_type": "stream",
     "text": [
      "MSE= 1444.709428437311\n",
      "R2= 0.9811030766010623\n"
     ]
    }
   ],
   "source": [
    "# Résultats de prédiction sur l'échantillon de test\n",
    "prev=regLassOpt.predict(Xr_test)\n",
    "mse_mod_lin_lasso=mean_squared_error(prev,Yr_test)\n",
    "r2_mod_lin_lasso=r2_score(Yr_test,prev)\n",
    "print(\"MSE=\", mse_mod_lin_lasso)\n",
    "print(\"R2=\",r2_mod_lin_lasso)"
   ]
  },
  {
   "cell_type": "code",
   "execution_count": 18,
   "id": "c03d4a97-9152-42c5-851b-33680eff27a0",
   "metadata": {},
   "outputs": [
    {
     "name": "stdout",
     "output_type": "stream",
     "text": [
      "Lasso conserve 11 variables et en supprime 8\n"
     ]
    }
   ],
   "source": [
    "# Coefficients gardés par Lasso\n",
    "regLasso=linear_model.Lasso(alpha=regLassOpt.best_params_['alpha'])\n",
    "model_lasso=regLasso.fit(Xr_train,Yr_train)\n",
    "model_lasso.coef_\n",
    "coef = pd.Series(model_lasso.coef_, index = X_train.columns)\n",
    "print(\"Lasso conserve \" + str(sum(coef != 0)) + \n",
    "      \" variables et en supprime \" +  str(sum(coef == 0)))"
   ]
  },
  {
   "cell_type": "code",
   "execution_count": 19,
   "id": "e64198e2-7252-4dd7-bf3b-d6b5269943b3",
   "metadata": {},
   "outputs": [
    {
     "data": {
      "image/png": "[encoded data removed]",
      "text/plain": [
       "<Figure size 640x480 with 1 Axes>"
      ]
     },
     "metadata": {},
     "output_type": "display_data"
    }
   ],
   "source": [
    "# Résidus sur l'échantillon de test\n",
    "plt.plot(prev,Yr_test-prev,\"o\")\n",
    "plt.xlabel(u\"Prédites\")\n",
    "plt.ylabel(u\"Résidus\")\n",
    "plt.hlines(0,40,1600)\n",
    "plt.show()"
   ]
  },
  {
   "cell_type": "code",
   "execution_count": 20,
   "id": "09c1f10c-2edf-4b50-8c13-d748a8326360",
   "metadata": {},
   "outputs": [
    {
     "data": {
      "text/plain": [
       "Text(0.5, 1.0, 'Coefficients du modèle lasso')"
      ]
     },
     "execution_count": 20,
     "metadata": {},
     "output_type": "execute_result"
    },
    {
     "data": {
      "image/png": "[encoded data removed]",
      "text/plain": [
       "<Figure size 800x1000 with 1 Axes>"
      ]
     },
     "metadata": {},
     "output_type": "display_data"
    }
   ],
   "source": [
    "#Importance des paramètres\n",
    "imp_coef = coef.sort_values()\n",
    "plt.rcParams['figure.figsize'] = (8.0, 10.0)\n",
    "imp_coef.plot(kind = \"barh\")\n",
    "plt.title(\"Coefficients du modèle lasso\")"
   ]
  },
  {
   "cell_type": "markdown",
   "id": "d8fe7988-0a1d-4546-9342-14845beb15dc",
   "metadata": {},
   "source": [
    "Le lambda optimal (alpha) trouvé par Python correspond au lambda min trouvé en R. Toutefois, avec un même paramètre de régularisation, le code python de la prédiction de modèle linéaire a de meilleurs résultats que R."
   ]
  },
  {
   "cell_type": "markdown",
   "id": "70376c67-8ceb-425f-9ccb-95bf0b35c7fa",
   "metadata": {},
   "source": [
    "## 2.3 Support Vector Regression(SVR)\n"
   ]
  },
  {
   "cell_type": "markdown",
   "id": "2b88fb08-5724-47fe-8b77-cada57714ae1",
   "metadata": {},
   "source": [
    "### 2.3.1 Régression sur l'échantillon d'apprentissage"
   ]
  },
  {
   "cell_type": "markdown",
   "id": "f2576dd0-56f1-453d-9a8c-53f712550232",
   "metadata": {},
   "source": [
    "Nous nous interressons seulement au noyau gaussien. Nous estimons les paramètres optimaux par validation croisée."
   ]
  },
  {
   "cell_type": "code",
   "execution_count": 21,
   "id": "43a8a58c-9243-4b4d-b036-9f1792e3e288",
   "metadata": {},
   "outputs": [],
   "source": [
    "from sklearn.svm import SVR"
   ]
  },
  {
   "cell_type": "code",
   "execution_count": 22,
   "id": "bfc63f8f-9922-4ef7-a30d-657118dbcff6",
   "metadata": {},
   "outputs": [
    {
     "name": "stdout",
     "output_type": "stream",
     "text": [
      "Meilleurs paramètres trouvés : {'C': 120, 'gamma': 0.01}\n"
     ]
    }
   ],
   "source": [
    "\n",
    "# Définition du modèle SVR et des hyperparamètres à tester\n",
    "svr = SVR()\n",
    "param_grid = {\n",
    "    'C': [3.5,5, 8, 12, 20,50, 100, 120],\n",
    "    'gamma': ['scale', 'auto', 0.001, 0.01, 0.1, 1]\n",
    "}\n",
    "\n",
    "# Grid Search avec validation croisée\n",
    "grid_search = GridSearchCV(svr, param_grid, cv=10)\n",
    "grid_search.fit(Xr_train, Yr_train)\n",
    "\n",
    "# Meilleur modèle\n",
    "best_svr = grid_search.best_estimator_\n",
    "print(\"Meilleurs paramètres trouvés :\", grid_search.best_params_)\n"
   ]
  },
  {
   "cell_type": "code",
   "execution_count": 23,
   "id": "e1dcb620-0dfa-42b1-bb24-ffea94b42103",
   "metadata": {},
   "outputs": [
    {
     "data": {
      "image/png": "[encoded data removed]",
      "text/plain": [
       "<Figure size 1200x600 with 2 Axes>"
      ]
     },
     "metadata": {},
     "output_type": "display_data"
    }
   ],
   "source": [
    "# Prédiction sur les jeux de données\n",
    "Yr_train_pred = best_svr.predict(Xr_train)\n",
    "Yr_test_pred = best_svr.predict(Xr_test)\n",
    "\n",
    "# Calcul des résidus\n",
    "residus_train = Yr_train - Yr_train_pred\n",
    "residus_test = Yr_test - Yr_test_pred\n",
    "\n",
    "# Tracé des résidus\n",
    "plt.figure(figsize=(12, 6))\n",
    "plt.subplot(1, 2, 1)\n",
    "plt.scatter(Yr_train_pred, residus_train, color='blue', alpha=0.5)\n",
    "plt.axhline(y=0, color='red', linestyle='--')\n",
    "plt.title(\"Résidus sur jeu d'entraînement\")\n",
    "plt.xlabel(\"Valeurs prédites\")\n",
    "plt.ylabel(\"Résidus\")\n",
    "\n",
    "plt.subplot(1, 2, 2)\n",
    "plt.scatter(Yr_test_pred, residus_test, color='green', alpha=0.5)\n",
    "plt.axhline(y=0, color='red', linestyle='--')\n",
    "plt.title(\"Résidus sur jeu de test\")\n",
    "plt.xlabel(\"Valeurs prédites\")\n",
    "plt.ylabel(\"Résidus\")\n",
    "\n",
    "plt.tight_layout()\n",
    "plt.show()"
   ]
  },
  {
   "cell_type": "markdown",
   "id": "256f8947-1a8c-48c9-8f05-b3084f80851e",
   "metadata": {},
   "source": [
    "Nous allons maintenant tester sur l'échantillon de test."
   ]
  },
  {
   "cell_type": "code",
   "execution_count": 26,
   "id": "81b2e661-166c-4267-a6f2-2af32b0b8a31",
   "metadata": {},
   "outputs": [
    {
     "name": "stdout",
     "output_type": "stream",
     "text": [
      "MSE= 1444.709428437311\n",
      "R2= 0.9811030766010623\n"
     ]
    }
   ],
   "source": [
    "# Résultats de prédiction sur l'échantillon de test\n",
    "\n",
    "mse_svr=mean_squared_error(Yr_test_pred,Yr_test)\n",
    "r2_svr=r2_score(Yr_test,Yr_test_pred)\n",
    "print(\"MSE=\", mse_mod_lin_lasso)\n",
    "print(\"R2=\",r2_mod_lin_lasso)"
   ]
  },
  {
   "cell_type": "markdown",
   "id": "15cf5d65-6edf-40cd-86d9-8d56fdc7a094",
   "metadata": {},
   "source": [
    "## Arbre Optimal"
   ]
  },
  {
   "cell_type": "code",
   "execution_count": null,
   "id": "9cf36ba3-bd42-4c99-bd86-c4f6158db5d4",
   "metadata": {},
   "outputs": [],
   "source": []
  },
  {
   "cell_type": "markdown",
   "id": "ef71e702-88aa-4e09-8501-03d23ad1ede1",
   "metadata": {},
   "source": [
    "##### Graphe des résidus"
   ]
  },
  {
   "cell_type": "code",
   "execution_count": null,
   "id": "71483a09-1c2b-4e9c-a27b-f4e0bb10ec34",
   "metadata": {},
   "outputs": [],
   "source": []
  },
  {
   "cell_type": "code",
   "execution_count": null,
   "id": "00b67376-32c8-4ed2-a2a8-0b57d204f2c9",
   "metadata": {},
   "outputs": [],
   "source": []
  },
  {
   "cell_type": "markdown",
   "id": "4846f944-999c-40ca-8b89-9d7bc4ed27d1",
   "metadata": {},
   "source": [
    "### 2.4.2 Erreur de régression"
   ]
  },
  {
   "cell_type": "code",
   "execution_count": null,
   "id": "b679d3ff-7493-42ca-a4ce-15d420178e64",
   "metadata": {},
   "outputs": [],
   "source": []
  },
  {
   "cell_type": "markdown",
   "id": "377654c3-2efa-436f-b1a5-80d7de1d5a37",
   "metadata": {},
   "source": [
    "## 2.5 Forêt aléatoire"
   ]
  },
  {
   "cell_type": "code",
   "execution_count": null,
   "id": "cbb9d028-0709-40fb-a77a-6552e20b5f72",
   "metadata": {},
   "outputs": [],
   "source": []
  },
  {
   "cell_type": "markdown",
   "id": "a2658383-1550-43e5-a7ff-b922a72cdc3f",
   "metadata": {},
   "source": [
    "### 2.5.1 Regression"
   ]
  },
  {
   "cell_type": "code",
   "execution_count": null,
   "id": "a6f88668-bb93-4c1f-bd0b-94f0c152077c",
   "metadata": {},
   "outputs": [],
   "source": []
  },
  {
   "cell_type": "code",
   "execution_count": null,
   "id": "2f9cd90b-b0fd-4550-9280-4d20f5621ac4",
   "metadata": {},
   "outputs": [],
   "source": []
  },
  {
   "cell_type": "code",
   "execution_count": null,
   "id": "5275d270-81c3-40c3-83e6-a2d83f98a68c",
   "metadata": {},
   "outputs": [],
   "source": []
  },
  {
   "cell_type": "code",
   "execution_count": null,
   "id": "25a0fee3-5b11-4f9b-8ffa-51dfd6d9c86f",
   "metadata": {},
   "outputs": [],
   "source": []
  },
  {
   "cell_type": "code",
   "execution_count": null,
   "id": "217f5c35-9a1b-413d-b71c-08b236739c88",
   "metadata": {},
   "outputs": [],
   "source": []
  },
  {
   "cell_type": "code",
   "execution_count": null,
   "id": "d3264e71-c3d7-4b82-bac7-f922136d8415",
   "metadata": {},
   "outputs": [],
   "source": []
  },
  {
   "cell_type": "code",
   "execution_count": null,
   "id": "dc039245-de3c-49ce-9a2e-818317ac37cd",
   "metadata": {},
   "outputs": [],
   "source": []
  },
  {
   "cell_type": "markdown",
   "id": "322639ee-f9e0-4dfa-9944-ca922f67ddab",
   "metadata": {},
   "source": [
    "### 2.5.2 Prévision de l'échantillon test"
   ]
  },
  {
   "cell_type": "code",
   "execution_count": null,
   "id": "edc8b7eb-6ba6-47c6-bf45-a39013aea23a",
   "metadata": {},
   "outputs": [],
   "source": []
  },
  {
   "cell_type": "markdown",
   "id": "debf78d5-0812-481f-a5c4-725f1e4d4c24",
   "metadata": {},
   "source": [
    "#### 2.5.3 Importance des variables"
   ]
  },
  {
   "cell_type": "code",
   "execution_count": null,
   "id": "7c66fb76-2acf-4093-b733-d786dabd7191",
   "metadata": {},
   "outputs": [],
   "source": []
  },
  {
   "cell_type": "markdown",
   "id": "1c6a588d-7ae7-468e-a34c-6de25e66d871",
   "metadata": {},
   "source": [
    "Commenter l'importance des variables .\n"
   ]
  },
  {
   "cell_type": "markdown",
   "id": "3e2085d9-608d-4b2e-978a-9ccf56667ea7",
   "metadata": {},
   "source": [
    "## 2.6 Boosting"
   ]
  },
  {
   "cell_type": "markdown",
   "id": "7b08b9e7-127c-4b48-b71a-a862003a113f",
   "metadata": {},
   "source": [
    "### 2.6.1 Régression"
   ]
  },
  {
   "cell_type": "code",
   "execution_count": null,
   "id": "ea4d010a-cd1f-4bea-9a55-67c7307fb62f",
   "metadata": {},
   "outputs": [],
   "source": []
  },
  {
   "cell_type": "code",
   "execution_count": null,
   "id": "4c487cb3-6d0d-499b-90aa-dcc1961cfee3",
   "metadata": {},
   "outputs": [],
   "source": []
  },
  {
   "cell_type": "code",
   "execution_count": null,
   "id": "704de560-b863-4b1d-a522-bed08517994b",
   "metadata": {},
   "outputs": [],
   "source": []
  },
  {
   "cell_type": "markdown",
   "id": "988cc308-b565-41cd-9139-7cb08cc34a08",
   "metadata": {},
   "source": [
    "##### Calcul des résidus"
   ]
  },
  {
   "cell_type": "code",
   "execution_count": null,
   "id": "be7cc40e-9229-4eeb-ad95-d34ecc3ca3a7",
   "metadata": {},
   "outputs": [],
   "source": []
  },
  {
   "cell_type": "markdown",
   "id": "364e0c47-f3ae-4ea5-9443-b45bc838bba7",
   "metadata": {},
   "source": [
    "### 2.6.2 Prévision de l'échantillon test, erreur de régression"
   ]
  },
  {
   "cell_type": "code",
   "execution_count": null,
   "id": "0966ef47-03f4-4f83-ae12-1e9eaa1edd84",
   "metadata": {},
   "outputs": [],
   "source": []
  },
  {
   "cell_type": "markdown",
   "id": "56206382-449e-478d-b555-2084c556cc70",
   "metadata": {},
   "source": [
    "Le boosting a de bonnes performances. L'erreur de prévision est similaire à celle des modèles linéaires. Toutefois, son temps de calcul est plus long et son interprétabilité plus faible."
   ]
  },
  {
   "cell_type": "markdown",
   "id": "42c9867b-f7da-4306-8761-9bc6b01db2fa",
   "metadata": {},
   "source": [
    "## 2.7 Réseau de neurones"
   ]
  },
  {
   "cell_type": "markdown",
   "id": "0d9ecb21-f811-4ece-b063-d901aa38c386",
   "metadata": {},
   "source": [
    "### 2.7.1 Régression"
   ]
  },
  {
   "cell_type": "code",
   "execution_count": null,
   "id": "597165a9-aab5-42b3-8cb9-8cdba2dd2198",
   "metadata": {},
   "outputs": [],
   "source": []
  },
  {
   "cell_type": "markdown",
   "id": "07b6dfe4-61db-43e5-b236-9b3a59c57927",
   "metadata": {},
   "source": [
    "Size définit le nombre de neurones dans la couche cachée. Plus size est grand, plus le réseau a de capacité à apprendre des relations complexes (modèle plus puissant). Decay est le coefficient de régularisation L2 (penalisation des poids). Nous cherchons les paramètres optimaux grâce à la fonction Tune.nnet."
   ]
  },
  {
   "cell_type": "code",
   "execution_count": null,
   "id": "3763ffb5-7c6a-481a-8184-139332448f26",
   "metadata": {},
   "outputs": [],
   "source": []
  },
  {
   "cell_type": "code",
   "execution_count": null,
   "id": "a36e1920-90a6-4776-9766-cdb419bbd2f1",
   "metadata": {},
   "outputs": [],
   "source": []
  },
  {
   "cell_type": "code",
   "execution_count": null,
   "id": "755bc517-69c8-455f-8090-74f15c0d1cf4",
   "metadata": {},
   "outputs": [],
   "source": []
  },
  {
   "cell_type": "markdown",
   "id": "00166205-202b-400a-860b-c7fc83b088e0",
   "metadata": {},
   "source": [
    "Les résidus sont bien aléatoires et independants."
   ]
  },
  {
   "cell_type": "markdown",
   "id": "d2c430ff-befd-4ad9-b25f-8500a225eeba",
   "metadata": {},
   "source": [
    "### 2.7.2 Prévision de l'échantillon test, erreur de régression"
   ]
  },
  {
   "cell_type": "code",
   "execution_count": null,
   "id": "7cc991a6-943c-40b1-aba0-baa1d82ccc2c",
   "metadata": {},
   "outputs": [],
   "source": []
  },
  {
   "cell_type": "markdown",
   "id": "09ff861e-b2c0-4c91-8189-eefe9a3cc4fb",
   "metadata": {},
   "source": [
    "La MSE du réseaux de neurones est similaire à celle des modèles linéaires (environ 1500). Il est important de noter que le tuning des paramètres pour le réseau de neurones est assez long et très couteux. De plus, nous observons une certaine variabilité des résultats due à l'initialisation àléatoire. Ici d'autres paramètres sont peut-être plus optimaux mais le coût de calcul pour leur recherche est conséquent et les résultats sont variables. "
   ]
  },
  {
   "cell_type": "markdown",
   "id": "c24cfa78-1332-4bd4-9a49-f85b6ca16403",
   "metadata": {},
   "source": [
    "## 2.8 Comparaison finale des différents modèles"
   ]
  },
  {
   "cell_type": "markdown",
   "id": "03a1c8c3-17f3-4321-906f-3b6dcb31dcb9",
   "metadata": {},
   "source": [
    "Finalement, voici les résultats des différents modèles sur l'échantillon test. Pour des raisons d'explicabilité et d'interprétation des résultats nous affichons la RMSE et non la MSE car la RMSE est dans la même unité que \"Calories_Burned\", soit en calories."
   ]
  },
  {
   "cell_type": "code",
   "execution_count": 25,
   "id": "976a28c6-d1df-49b9-8414-4699c4667d1f",
   "metadata": {},
   "outputs": [
    {
     "ename": "SyntaxError",
     "evalue": "invalid decimal literal (3231204663.py, line 7)",
     "output_type": "error",
     "traceback": [
      "\u001b[1;36m  Cell \u001b[1;32mIn[25], line 7\u001b[1;36m\u001b[0m\n\u001b[1;33m    cat(\"RMSE Modèle linéaire  Lasso avec lambda.1se :\", sqrt(mse.lasso.1se), \"\\n\")\u001b[0m\n\u001b[1;37m                                                                        ^\u001b[0m\n\u001b[1;31mSyntaxError\u001b[0m\u001b[1;31m:\u001b[0m invalid decimal literal\n"
     ]
    }
   ],
   "source": [
    "cat(\"RMSE RdN :\",sqrt(erreur_RDN),\"\\n\")\n",
    "cat(\"RMSE Boosting :\",sqrt(erreur_boosting),\"\\n\")\n",
    "cat(\"RMSE Foret aléatoire :\" ,sqrt(erreur_randomforest),\"\\n\")\n",
    "cat(\"RMSE Arbre optimal :\",sqrt(erreur_arbreoptimal) ,\"\\n\")\n",
    "cat(\"RMSE pour un SVR avec noyau radial :\",sqrt(erreur_SVR) , \"\\n\")\n",
    "cat(\"RMSE Modèle linéaire Lasso avec lambda.min :\", sqrt(mse.lasso.min), \"\\n\")\n",
    "cat(\"RMSE Modèle linéaire  Lasso avec lambda.1se :\", sqrt(mse.lasso.1se), \"\\n\")\n",
    "cat(\"RMSE modèle linéaire sans sélection de variable :\", sqrt(mse.lm), \"\\n\")\n"
   ]
  },
  {
   "cell_type": "markdown",
   "id": "2527fc6d-5f6c-4f6a-8fbf-d7b6770ebbe6",
   "metadata": {},
   "source": [
    "##### Quels sont les modèles les plus performants ? Quel est le niveau de précision obtenu ? Quels modèles retenir si l’on ajoute une contrainte d’interprétabilité ?"
   ]
  },
  {
   "cell_type": "markdown",
   "id": "e63c4154-1195-4fd9-be04-fea949874596",
   "metadata": {},
   "source": [
    "SVR avec un noyau radial est le modèle le plus performant avec une RMSE égale à 30. Ainsi, lors de la prédiction du nombre Il est suivi par le modèle par boosting avec une RMSE égale à 39.\n",
    "\n",
    "Or, SVR, Boosting, Réseaux de neurones ont un niveau d'interprétabilité très faible.\n",
    "\n",
    "Donc si on rajoute une contrainte d'interprétabilité, les modèles linéaires sont les plus pertinents. Le modèle avec sélection de variables LASSO avec lambda.min semble être le meilleur compromis avec une MSE égale à 2007."
   ]
  },
  {
   "cell_type": "markdown",
   "id": "d355cdbe-1f18-4107-8c56-eca16d7db68e",
   "metadata": {},
   "source": [
    "##### Retour sur l'analyse de données"
   ]
  },
  {
   "cell_type": "markdown",
   "id": "57118613-b51a-45d1-a30e-7ff7ed65d5d4",
   "metadata": {},
   "source": [
    "vos résultats sont-ils cohérents avec l’analyse exploratoire des données, par exemple en ce qui concerne l’importance des variables ?"
   ]
  },
  {
   "cell_type": "markdown",
   "id": "7cbfc33b-e902-4b42-adc4-4529ef7f401a",
   "metadata": {},
   "source": [
    "Les résultats obtenus sont cohérents avec l'analyse exploratoire des données. En effet, les modèles linéaires avec sélection de variable et l'arbre optimal ont confirmé nos analyses sur la grande importance de la variable \"Durée de la session\". Nous avons également retrouvé l'importance du genre dans la sélection des variables des modèles linéaires. Toutefois, nous n'avions pas trouvé grande importance à la variable \"Avg_BPM\" dans notre analyse exploratoire alors que les modèles de prédiction ont mis en avant cette variable."
   ]
  },
  {
   "cell_type": "markdown",
   "id": "46bc06de-350f-4eaf-81b2-48fea8924213",
   "metadata": {},
   "source": [
    "<h1 style=\"color:red\">III- Prédiction du niveau d'expérience</h1>\n"
   ]
  },
  {
   "cell_type": "code",
   "execution_count": 30,
   "id": "9f0b3fc2-1f88-464d-ab9e-b5f192e82ca2",
   "metadata": {},
   "outputs": [
    {
     "data": {
      "text/plain": [
       "0    False\n",
       "1    False\n",
       "2    False\n",
       "3     True\n",
       "4     True\n",
       "Name: Experience_Level_1, dtype: bool"
      ]
     },
     "execution_count": 30,
     "metadata": {},
     "output_type": "execute_result"
    }
   ],
   "source": [
    "GymDum=pd.get_dummies(gym[[\"Gender\",\"Workout_Type\",\"Experience_Level\",\"Workout_Frequency\"]])\n",
    "GymDum = GymDum.drop(columns=[\"Workout_Type_Cardio\",\"Workout_Frequency_2\"])\n",
    "\n",
    "\n",
    "GymDum2=pd.get_dummies(gym[[\"Gender\",\"Workout_Type\",\"Workout_Frequency\"]])\n",
    "GymDum2 = GymDum2.drop(columns=[\"Workout_Type_Cardio\",\"Workout_Frequency_2\"])\n",
    "\n",
    "\n",
    "Y1=GymDum[\"Experience_Level_1\"]\n",
    "Y2=GymDum[\"Experience_Level_2\"]\n",
    "Y3=GymDum[\"Experience_Level_3\"]\n",
    "\n",
    "Yb=gym[\"Experience_Level\"]\n",
    "\n",
    "Y1.head()"
   ]
  },
  {
   "cell_type": "code",
   "execution_count": 34,
   "id": "a602e486-bde4-4fd4-ba75-f2d03da57d22",
   "metadata": {},
   "outputs": [
    {
     "data": {
      "text/html": [
       "<div>\n",
       "<style scoped>\n",
       "    .dataframe tbody tr th:only-of-type {\n",
       "        vertical-align: middle;\n",
       "    }\n",
       "\n",
       "    .dataframe tbody tr th {\n",
       "        vertical-align: top;\n",
       "    }\n",
       "\n",
       "    .dataframe thead th {\n",
       "        text-align: right;\n",
       "    }\n",
       "</style>\n",
       "<table border=\"1\" class=\"dataframe\">\n",
       "  <thead>\n",
       "    <tr style=\"text-align: right;\">\n",
       "      <th></th>\n",
       "      <th>Gender_Female</th>\n",
       "      <th>Gender_Male</th>\n",
       "      <th>Workout_Type_HIIT</th>\n",
       "      <th>Workout_Type_Strength</th>\n",
       "      <th>Workout_Type_Yoga</th>\n",
       "      <th>Workout_Frequency_3</th>\n",
       "      <th>Workout_Frequency_4</th>\n",
       "      <th>Workout_Frequency_5</th>\n",
       "      <th>Age</th>\n",
       "      <th>Height</th>\n",
       "      <th>Max_BPM</th>\n",
       "      <th>Avg_BPM</th>\n",
       "      <th>Resting_BPM</th>\n",
       "      <th>Session_Duration</th>\n",
       "      <th>Fat_Percentage</th>\n",
       "      <th>Water_Intake</th>\n",
       "      <th>LWeight</th>\n",
       "      <th>LBMI</th>\n",
       "    </tr>\n",
       "  </thead>\n",
       "  <tbody>\n",
       "    <tr>\n",
       "      <th>0</th>\n",
       "      <td>False</td>\n",
       "      <td>True</td>\n",
       "      <td>False</td>\n",
       "      <td>False</td>\n",
       "      <td>True</td>\n",
       "      <td>False</td>\n",
       "      <td>True</td>\n",
       "      <td>False</td>\n",
       "      <td>56</td>\n",
       "      <td>1.71</td>\n",
       "      <td>180</td>\n",
       "      <td>157</td>\n",
       "      <td>60</td>\n",
       "      <td>1.69</td>\n",
       "      <td>12.6</td>\n",
       "      <td>3.5</td>\n",
       "      <td>4.480740</td>\n",
       "      <td>3.407842</td>\n",
       "    </tr>\n",
       "    <tr>\n",
       "      <th>1</th>\n",
       "      <td>True</td>\n",
       "      <td>False</td>\n",
       "      <td>True</td>\n",
       "      <td>False</td>\n",
       "      <td>False</td>\n",
       "      <td>False</td>\n",
       "      <td>True</td>\n",
       "      <td>False</td>\n",
       "      <td>46</td>\n",
       "      <td>1.53</td>\n",
       "      <td>179</td>\n",
       "      <td>151</td>\n",
       "      <td>66</td>\n",
       "      <td>1.30</td>\n",
       "      <td>33.9</td>\n",
       "      <td>2.1</td>\n",
       "      <td>4.316154</td>\n",
       "      <td>3.465736</td>\n",
       "    </tr>\n",
       "    <tr>\n",
       "      <th>2</th>\n",
       "      <td>True</td>\n",
       "      <td>False</td>\n",
       "      <td>False</td>\n",
       "      <td>False</td>\n",
       "      <td>False</td>\n",
       "      <td>False</td>\n",
       "      <td>True</td>\n",
       "      <td>False</td>\n",
       "      <td>32</td>\n",
       "      <td>1.66</td>\n",
       "      <td>167</td>\n",
       "      <td>122</td>\n",
       "      <td>54</td>\n",
       "      <td>1.11</td>\n",
       "      <td>33.4</td>\n",
       "      <td>2.3</td>\n",
       "      <td>4.220977</td>\n",
       "      <td>3.207208</td>\n",
       "    </tr>\n",
       "    <tr>\n",
       "      <th>3</th>\n",
       "      <td>False</td>\n",
       "      <td>True</td>\n",
       "      <td>False</td>\n",
       "      <td>True</td>\n",
       "      <td>False</td>\n",
       "      <td>True</td>\n",
       "      <td>False</td>\n",
       "      <td>False</td>\n",
       "      <td>25</td>\n",
       "      <td>1.70</td>\n",
       "      <td>190</td>\n",
       "      <td>164</td>\n",
       "      <td>56</td>\n",
       "      <td>0.59</td>\n",
       "      <td>28.8</td>\n",
       "      <td>2.1</td>\n",
       "      <td>3.974058</td>\n",
       "      <td>2.912894</td>\n",
       "    </tr>\n",
       "    <tr>\n",
       "      <th>4</th>\n",
       "      <td>False</td>\n",
       "      <td>True</td>\n",
       "      <td>False</td>\n",
       "      <td>True</td>\n",
       "      <td>False</td>\n",
       "      <td>True</td>\n",
       "      <td>False</td>\n",
       "      <td>False</td>\n",
       "      <td>38</td>\n",
       "      <td>1.79</td>\n",
       "      <td>188</td>\n",
       "      <td>158</td>\n",
       "      <td>68</td>\n",
       "      <td>0.64</td>\n",
       "      <td>29.2</td>\n",
       "      <td>2.8</td>\n",
       "      <td>3.830813</td>\n",
       "      <td>2.666534</td>\n",
       "    </tr>\n",
       "  </tbody>\n",
       "</table>\n",
       "</div>"
      ],
      "text/plain": [
       "   Gender_Female  Gender_Male  Workout_Type_HIIT  Workout_Type_Strength  \\\n",
       "0          False         True              False                  False   \n",
       "1           True        False               True                  False   \n",
       "2           True        False              False                  False   \n",
       "3          False         True              False                   True   \n",
       "4          False         True              False                   True   \n",
       "\n",
       "   Workout_Type_Yoga  Workout_Frequency_3  Workout_Frequency_4  \\\n",
       "0               True                False                 True   \n",
       "1              False                False                 True   \n",
       "2              False                False                 True   \n",
       "3              False                 True                False   \n",
       "4              False                 True                False   \n",
       "\n",
       "   Workout_Frequency_5  Age  Height  Max_BPM  Avg_BPM  Resting_BPM  \\\n",
       "0                False   56    1.71      180      157           60   \n",
       "1                False   46    1.53      179      151           66   \n",
       "2                False   32    1.66      167      122           54   \n",
       "3                False   25    1.70      190      164           56   \n",
       "4                False   38    1.79      188      158           68   \n",
       "\n",
       "   Session_Duration  Fat_Percentage  Water_Intake   LWeight      LBMI  \n",
       "0              1.69            12.6           3.5  4.480740  3.407842  \n",
       "1              1.30            33.9           2.1  4.316154  3.465736  \n",
       "2              1.11            33.4           2.3  4.220977  3.207208  \n",
       "3              0.59            28.8           2.1  3.974058  2.912894  \n",
       "4              0.64            29.2           2.8  3.830813  2.666534  "
      ]
     },
     "execution_count": 34,
     "metadata": {},
     "output_type": "execute_result"
    }
   ],
   "source": [
    "dfC2=pd.concat([GymDum,gymQuant],axis=1)\n",
    "dfC2=dfC2.drop(columns=[\"Experience_Level_1\",\"Experience_Level_2\", \"Experience_Level_3\"]) \n",
    "\n",
    "dfC3=pd.concat([GymDum2,gymQuant],axis=1)\n",
    "\n",
    "dfC2.head()"
   ]
  },
  {
   "cell_type": "markdown",
   "id": "6728830a-9412-4791-9f6a-016b754f0af0",
   "metadata": {},
   "source": [
    "### Séparation des échantillons en train et test"
   ]
  },
  {
   "cell_type": "code",
   "execution_count": 35,
   "id": "be8e6ed3-0a22-4be3-8620-588edfdafc5e",
   "metadata": {},
   "outputs": [],
   "source": [
    "X1_train,X1_test,Y1_train,Y1_test=train_test_split(dfC2,Y1,test_size=0.2,random_state=17)\n",
    "X2_train,X2_test,Y2_train,Y2_test=train_test_split(dfC2,Y2,test_size=0.2,random_state=17)\n",
    "X3_train,X3_test,Y3_train,Y3_test=train_test_split(dfC2,Y3,test_size=0.2,random_state=17)\n",
    "X_train,X_test,Yb_train,Yb_test=train_test_split(dfC3,Yb,test_size=0.2,random_state=17)"
   ]
  },
  {
   "cell_type": "markdown",
   "id": "d459dfcc-ea94-4fe7-8fdb-eaa6b63b06de",
   "metadata": {},
   "source": [
    "Normalisons ensuite les données, ce qui est nécessaire pour certains modèles."
   ]
  },
  {
   "cell_type": "code",
   "execution_count": 37,
   "id": "3274ba3f-b656-482a-ac76-c45b85ca6c41",
   "metadata": {},
   "outputs": [],
   "source": [
    "scaler = StandardScaler()  \n",
    "scaler.fit(X1_train)  \n",
    "scaler.fit(X2_train)  \n",
    "scaler.fit(X3_train)  \n",
    "scaler.fit(X_train)  \n",
    "\n",
    "Xb1_train = scaler.fit_transform(X1_train)  \n",
    "Xb1_test = scaler.transform(X1_test)\n",
    "Xb2_train = scaler.fit_transform(X2_train)  \n",
    "Xb2_test = scaler.transform(X2_test)\n",
    "Xb3_train = scaler.fit_transform(X3_train)  \n",
    "Xb3_test = scaler.transform(X3_test)\n",
    "Xb_train = scaler.fit_transform(X_train)  \n",
    "Xb_test = scaler.transform(X_test)"
   ]
  },
  {
   "cell_type": "markdown",
   "id": "3bfd4f2b-85ea-4990-983b-fb3880819356",
   "metadata": {},
   "source": [
    "## Modèle linéaire"
   ]
  },
  {
   "cell_type": "markdown",
   "id": "2293406d-af4d-452e-8956-f03915475625",
   "metadata": {},
   "source": [
    "### Regression logistique"
   ]
  },
  {
   "cell_type": "markdown",
   "id": "c462034e-f8c2-497b-a99d-2f765ad95586",
   "metadata": {},
   "source": [
    "La regression logistique s'applique normalement à de la classification binaire donc on doit séparer en trois prédictions."
   ]
  },
  {
   "cell_type": "markdown",
   "id": "2e401436-aae4-4f11-9c1d-1cfce2c95211",
   "metadata": {},
   "source": [
    "faire la reg logistique comme en R et afficher l'importance des variables. attention à bien faire de la validation croisée."
   ]
  },
  {
   "cell_type": "markdown",
   "id": "baafa60d-2a98-4d7a-bead-4620c1aed955",
   "metadata": {},
   "source": [
    "## SVM"
   ]
  },
  {
   "cell_type": "code",
   "execution_count": 51,
   "id": "754e901c-d87f-426e-979a-193b209c1ed8",
   "metadata": {},
   "outputs": [],
   "source": [
    "from sklearn.svm import SVC"
   ]
  },
  {
   "cell_type": "code",
   "execution_count": 43,
   "id": "1c53c93f-6d16-47f0-95ce-eeefba989cc6",
   "metadata": {},
   "outputs": [
    {
     "name": "stdout",
     "output_type": "stream",
     "text": [
      "Meilleur score = 0.123377, Meilleur paramètre = {'C': 1.4}\n"
     ]
    }
   ],
   "source": [
    "param=[{\"C\":[0.4,0.5,0.6,0.8,1,1.4,2,2.5]}]\n",
    "svm= GridSearchCV(SVC(probability=True),param,cv=10,n_jobs=-1)\n",
    "svmOpt=svm.fit(Xb_train, Yb_train)\n",
    "\n",
    "# paramètre optimal\n",
    "print(\"Meilleur score = %f, Meilleur paramètre = %s\" % (1. - svmOpt.best_score_,svmOpt.best_params_))"
   ]
  },
  {
   "cell_type": "markdown",
   "id": "ac3c7f45-a02b-4df4-9b6b-56fda70ec93f",
   "metadata": {},
   "source": [
    "#### Erreur sur l'échantillon de test"
   ]
  },
  {
   "cell_type": "code",
   "execution_count": 47,
   "id": "87c9f2ec-ed19-48ce-89dc-28ba8276300c",
   "metadata": {},
   "outputs": [
    {
     "data": {
      "text/plain": [
       "0.1282051282051282"
      ]
     },
     "execution_count": 47,
     "metadata": {},
     "output_type": "execute_result"
    }
   ],
   "source": [
    "# erreur de prévision sur le test\n",
    "precision_SVM=svmOpt.score(Xb_test,Yb_test)\n",
    "1-precision_SVM"
   ]
  },
  {
   "cell_type": "code",
   "execution_count": 53,
   "id": "305ad4ae-119b-4465-88a9-ca0d4a5ec98a",
   "metadata": {},
   "outputs": [
    {
     "name": "stdout",
     "output_type": "stream",
     "text": [
      "Matrice de confusion: \n",
      "Experience_Level   1   2   3\n",
      "row_0                       \n",
      "1                 57   9   0\n",
      "2                 16  85   0\n",
      "3                  0   0  28\n",
      "\n",
      "\n",
      "Rapport de classification: \n",
      "              precision    recall  f1-score   support\n",
      "\n",
      "           1       0.86      0.78      0.82        73\n",
      "           2       0.84      0.90      0.87        94\n",
      "           3       1.00      1.00      1.00        28\n",
      "\n",
      "    accuracy                           0.87       195\n",
      "   macro avg       0.90      0.90      0.90       195\n",
      "weighted avg       0.87      0.87      0.87       195\n",
      "\n"
     ]
    }
   ],
   "source": [
    "# prévision de l'échantillon test\n",
    "y_pred_test = svmOpt.predict(Xb_test)\n",
    "# matrice de confusion\n",
    "table=pd.crosstab(y_pred_test ,Yb_test)\n",
    "print(\"Matrice de confusion: \")\n",
    "print(table)\n",
    "\n",
    "print(\"\")\n",
    "print(\"\")\n",
    "\n",
    "print(\"Rapport de classification: \")\n",
    "print(classification_report(Yb_test, y_pred_test))"
   ]
  },
  {
   "cell_type": "markdown",
   "id": "febf084f-7653-45fb-9327-419be7fc3349",
   "metadata": {},
   "source": [
    "A voir si on se casse la tête a tracer les ROC, est ce que y'a une méthode facile pour les tracer avec 3 classes ?"
   ]
  },
  {
   "cell_type": "markdown",
   "id": "6e37fc6c-e983-4f8b-8610-06f856918f76",
   "metadata": {},
   "source": [
    "## Arbre optimal"
   ]
  },
  {
   "cell_type": "code",
   "execution_count": 57,
   "id": "ffb75af1-bae4-4798-a02c-6ab7a878e782",
   "metadata": {},
   "outputs": [
    {
     "name": "stdout",
     "output_type": "stream",
     "text": [
      "Meilleur score = 0.091292, Meilleur paramètre = {'max_depth': 4}\n"
     ]
    }
   ],
   "source": [
    "# Optimisation de la profondeur de l'arbre\n",
    "param=[{\"max_depth\":list(range(2,12))}]\n",
    "tree= GridSearchCV(DecisionTreeClassifier(),param,cv=10,n_jobs=-1)\n",
    "treeOpt=tree.fit(Xb_train, Yb_train)\n",
    "\n",
    "# paramètre optimal\n",
    "print(\"Meilleur score = %f, Meilleur paramètre = %s\" % (1. - treeOpt.best_score_,treeOpt.best_params_))\n"
   ]
  },
  {
   "cell_type": "code",
   "execution_count": 67,
   "id": "3c96767f-f7ce-498b-9923-0e5f2d770312",
   "metadata": {},
   "outputs": [
    {
     "data": {
      "image/png": "[encoded data removed]",
      "text/plain": [
       "<Figure size 800x1000 with 1 Axes>"
      ]
     },
     "metadata": {},
     "output_type": "display_data"
    }
   ],
   "source": [
    "best_tree=DecisionTreeClassifier(max_depth=treeOpt.best_params_['max_depth'])\n",
    "best_tree.fit(Xb_train,Yb_train)\n",
    "plot_tree(best_tree,feature_names=dfC.columns.tolist());\n",
    "plt.show()"
   ]
  },
  {
   "cell_type": "code",
   "execution_count": 59,
   "id": "7073e3f4-0022-4ee5-a47f-bbe08ea24b57",
   "metadata": {},
   "outputs": [
    {
     "data": {
      "text/plain": [
       "0.11794871794871797"
      ]
     },
     "execution_count": 59,
     "metadata": {},
     "output_type": "execute_result"
    }
   ],
   "source": [
    "# Estimation de l'erreur de prévision\n",
    "precision_CART=treeOpt.score(Xb_test,Yb_test)\n",
    "1-precision_CART"
   ]
  },
  {
   "cell_type": "code",
   "execution_count": 70,
   "id": "ba48debe-fd9b-4a8f-8a59-1ab5590163ec",
   "metadata": {},
   "outputs": [
    {
     "name": "stdout",
     "output_type": "stream",
     "text": [
      "Matrice de confusion CART : \n",
      "Experience_Level   1   2   3\n",
      "row_0                       \n",
      "1                 50   0   0\n",
      "2                 23  94   0\n",
      "3                  0   0  28\n",
      "\n",
      "\n",
      "Rapport de classification CART : \n",
      "              precision    recall  f1-score   support\n",
      "\n",
      "           1       1.00      0.68      0.81        73\n",
      "           2       0.80      1.00      0.89        94\n",
      "           3       1.00      1.00      1.00        28\n",
      "\n",
      "    accuracy                           0.88       195\n",
      "   macro avg       0.93      0.89      0.90       195\n",
      "weighted avg       0.91      0.88      0.88       195\n",
      "\n"
     ]
    }
   ],
   "source": [
    "# prévision de l'échantillon test\n",
    "y_pred_test_CART = treeOpt.predict(Xb_test)\n",
    "\n",
    "# matrice de confusion\n",
    "print(\"Matrice de confusion CART : \")\n",
    "table=pd.crosstab(y_pred_test_CART,Yb_test)\n",
    "print((pd.DataFrame(table)))\n",
    "\n",
    "print(\"\")\n",
    "print(\"\")\n",
    "\n",
    "print(\"Rapport de classification CART : \")\n",
    "print(classification_report(Yb_test, y_pred_test_CART))"
   ]
  },
  {
   "cell_type": "markdown",
   "id": "2bdb22c1-12c2-4fe2-9291-357a23e48646",
   "metadata": {},
   "source": [
    "## Forêt Aléatoire"
   ]
  },
  {
   "cell_type": "code",
   "execution_count": 74,
   "id": "03c6a5d5-72ec-441c-a8b0-06aa48f0e3bd",
   "metadata": {},
   "outputs": [
    {
     "name": "stdout",
     "output_type": "stream",
     "text": [
      "Meilleur score = 0.096419, Meilleur paramètre = {'max_features': 9}\n"
     ]
    }
   ],
   "source": [
    "param=[{\"max_features\":list(range(2,10,1))}]\n",
    "rf= GridSearchCV(RandomForestClassifier(n_estimators=100),\n",
    "        param,cv=5,n_jobs=-1)\n",
    "rfOpt=rf.fit(Xb_train, Yb_train)\n",
    "# paramètre optimal\n",
    "print(\"Meilleur score = %f, Meilleur paramètre = %s\" % (1. - rfOpt.best_score_,rfOpt.best_params_))"
   ]
  },
  {
   "cell_type": "markdown",
   "id": "09393696-53e8-49c1-9bca-b7715446c7be",
   "metadata": {},
   "source": [
    "#### Erreur de prévision sur le test"
   ]
  },
  {
   "cell_type": "code",
   "execution_count": 75,
   "id": "8f5c3c9e-167b-4db8-9046-4c63968c06e0",
   "metadata": {},
   "outputs": [],
   "source": [
    "# erreur de prévision sur le test\n",
    "precision_RandomForest=rfOpt.score(Xb_test,Yb_test)"
   ]
  },
  {
   "cell_type": "code",
   "execution_count": 77,
   "id": "89bb2725-1683-4654-bd66-254d32824ccd",
   "metadata": {},
   "outputs": [
    {
     "name": "stdout",
     "output_type": "stream",
     "text": [
      "Matrice de confusion: \n",
      "Experience_Level   1   2   3\n",
      "row_0                       \n",
      "1                 55  11   0\n",
      "2                 18  83   0\n",
      "3                  0   0  28\n",
      "\n",
      "\n",
      "Rapport de classification: \n",
      "              precision    recall  f1-score   support\n",
      "\n",
      "           1       0.83      0.75      0.79        73\n",
      "           2       0.82      0.88      0.85        94\n",
      "           3       1.00      1.00      1.00        28\n",
      "\n",
      "    accuracy                           0.85       195\n",
      "   macro avg       0.89      0.88      0.88       195\n",
      "weighted avg       0.85      0.85      0.85       195\n",
      "\n"
     ]
    }
   ],
   "source": [
    "# prévision\n",
    "y_pred_rf = rfOpt.predict(Xb_test)\n",
    "# matrice de confusion\n",
    "print(\"Matrice de confusion: \")\n",
    "table=pd.crosstab(y_pred_rf,Yb_test)\n",
    "print(table)\n",
    "\n",
    "print(\"\")\n",
    "print(\"\")\n",
    "\n",
    "print(\"Rapport de classification: \")\n",
    "print(classification_report(Yb_test, y_pred_rf))"
   ]
  },
  {
   "cell_type": "markdown",
   "id": "c21ed64f-a0fc-405d-bfee-04dc8f3b626a",
   "metadata": {},
   "source": [
    "+ afficher les 3 roc"
   ]
  },
  {
   "cell_type": "markdown",
   "id": "41a83a70-ac3a-4ac4-9a6f-adbad39fa26f",
   "metadata": {},
   "source": [
    "## Boosting"
   ]
  },
  {
   "cell_type": "markdown",
   "id": "eb604dc8-c1ae-4e9a-a68a-e956bbf394c8",
   "metadata": {},
   "source": [
    "## RDN"
   ]
  },
  {
   "cell_type": "markdown",
   "id": "f13b38fc-860d-41ab-b661-4e86f9a0e52d",
   "metadata": {},
   "source": [
    "## Comparaison des differents modèles (Courbes ROC+AUC, score F1, precision)"
   ]
  },
  {
   "cell_type": "code",
   "execution_count": null,
   "id": "cbea53ff-9061-4d80-a419-1a45724728e7",
   "metadata": {},
   "outputs": [],
   "source": []
  }
 ],
 "metadata": {
  "kernelspec": {
   "display_name": "Python 3 (ipykernel)",
   "language": "python",
   "name": "python3"
  },
  "language_info": {
   "codemirror_mode": {
    "name": "ipython",
    "version": 3
   },
   "file_extension": ".py",
   "mimetype": "text/x-python",
   "name": "python",
   "nbconvert_exporter": "python",
   "pygments_lexer": "ipython3",
   "version": "3.12.4"
  }
 },
 "nbformat": 4,
 "nbformat_minor": 5
}
